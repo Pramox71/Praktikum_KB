{
 "cells": [
  {
   "cell_type": "code",
   "execution_count": 1,
   "metadata": {},
   "outputs": [],
   "source": [
    "import pandas as pd\n",
    "import numpy as np\n",
    "import matplotlib as plt\n",
    "from sklearn.model_selection import train_test_split"
   ]
  },
  {
   "cell_type": "code",
   "execution_count": 2,
   "metadata": {},
   "outputs": [],
   "source": [
    "from sklearn.preprocessing import StandardScaler, MinMaxScaler\n",
    "from sklearn.preprocessing import OrdinalEncoder, OneHotEncoder\n",
    "from sklearn.impute import SimpleImputer"
   ]
  },
  {
   "cell_type": "markdown",
   "metadata": {},
   "source": [
    "## Mengimport segala jenis library yang di butuhkan"
   ]
  },
  {
   "cell_type": "code",
   "execution_count": 3,
   "metadata": {},
   "outputs": [],
   "source": [
    "df = pd.read_csv(\"GlobalWeatherRepository.csv\", sep=\";\")"
   ]
  },
  {
   "cell_type": "markdown",
   "metadata": {},
   "source": [
    "_Pertama akan di lakukan normalisasi data_"
   ]
  },
  {
   "cell_type": "code",
   "execution_count": 4,
   "metadata": {},
   "outputs": [
    {
     "name": "stdout",
     "output_type": "stream",
     "text": [
      "\n",
      "Jumlah Nilai Null per Kolom:\n",
      "condition_text       56\n",
      "air_quality_Ozone    76\n",
      "dtype: int64\n"
     ]
    }
   ],
   "source": [
    "null_count_per_column = df[[\"condition_text\", \"air_quality_Ozone\"]].isnull().sum()\n",
    "print(\"\\nJumlah Nilai Null per Kolom:\")\n",
    "print(null_count_per_column)"
   ]
  },
  {
   "cell_type": "markdown",
   "metadata": {},
   "source": [
    "Di dapatkan beberapa data yang bernilai null pada dataset <br>\n",
    "_Pertama data yang NULL akan di isi oleh modulus data dan mean data_"
   ]
  },
  {
   "cell_type": "code",
   "execution_count": 5,
   "metadata": {},
   "outputs": [
    {
     "data": {
      "text/plain": [
       "2"
      ]
     },
     "execution_count": 5,
     "metadata": {},
     "output_type": "execute_result"
    }
   ],
   "source": [
    "df.duplicated().sum()"
   ]
  },
  {
   "cell_type": "markdown",
   "metadata": {},
   "source": [
    "_Mengecek kemungkinan data yang duplicate_<br>\n",
    "_Dan bagian bawah ini adalah pengecekan dari hasil penghapusan data yang duplicate_"
   ]
  },
  {
   "cell_type": "code",
   "execution_count": 6,
   "metadata": {},
   "outputs": [
    {
     "data": {
      "text/plain": [
       "0"
      ]
     },
     "execution_count": 6,
     "metadata": {},
     "output_type": "execute_result"
    }
   ],
   "source": [
    "df.drop_duplicates(inplace=True)\n",
    "df.duplicated().sum()"
   ]
  },
  {
   "cell_type": "code",
   "execution_count": 7,
   "metadata": {},
   "outputs": [],
   "source": [
    "imputer = SimpleImputer(strategy=\"most_frequent\")\n"
   ]
  },
  {
   "cell_type": "code",
   "execution_count": 8,
   "metadata": {},
   "outputs": [],
   "source": [
    "cuaca = imputer.fit_transform(df[[\"condition_text\"]])\n",
    "df.air_quality_Ozone.fillna(df.air_quality_Ozone.mean(), inplace=True)\n",
    "df[[\"condition_text\"]] = cuaca"
   ]
  },
  {
   "cell_type": "markdown",
   "metadata": {},
   "source": [
    "### Pada bagian atas sudah dataset pada colom condition_text sudah di fill dengan modulus di bagian baris yang NULL <br>\n",
    "_Berikut adalah hasil pengecekan null_"
   ]
  },
  {
   "cell_type": "code",
   "execution_count": 9,
   "metadata": {},
   "outputs": [
    {
     "name": "stdout",
     "output_type": "stream",
     "text": [
      "\n",
      "Jumlah Nilai Null per Kolom:\n",
      "condition_text       0\n",
      "air_quality_Ozone    0\n",
      "moon_phase           0\n",
      "dtype: int64\n"
     ]
    }
   ],
   "source": [
    "null_count_per_column = df[[\"condition_text\", \"air_quality_Ozone\", \"moon_phase\"]].isnull().sum()\n",
    "print(\"\\nJumlah Nilai Null per Kolom:\")\n",
    "print(null_count_per_column)"
   ]
  },
  {
   "cell_type": "code",
   "execution_count": 10,
   "metadata": {},
   "outputs": [],
   "source": [
    "x =  df.iloc[:, 29:35]\n",
    "y = df.drop(columns=\"condition_text\")"
   ]
  },
  {
   "cell_type": "code",
   "execution_count": 11,
   "metadata": {},
   "outputs": [
    {
     "name": "stdout",
     "output_type": "stream",
     "text": [
      "Ini x_train :  (3545, 6)\n",
      "Ini x_test :  (1520, 6)\n",
      "Ini y_train :  (3545, 40)\n",
      "Ini y_test :  (1520, 40)\n"
     ]
    }
   ],
   "source": [
    "x_train, x_test, y_train, y_test = train_test_split(x, y, test_size=0.3)\n",
    "print(\"Ini x_train : \", x_train.shape)\n",
    "print(\"Ini x_test : \", x_test.shape)\n",
    "print(\"Ini y_train : \", y_train.shape)\n",
    "print(\"Ini y_test : \", y_test.shape)"
   ]
  },
  {
   "cell_type": "code",
   "execution_count": 12,
   "metadata": {},
   "outputs": [],
   "source": [
    "df_2 = pd.read_csv(\"GlobalWeatherRepository.csv\", sep=\";\")"
   ]
  },
  {
   "cell_type": "code",
   "execution_count": 13,
   "metadata": {},
   "outputs": [
    {
     "data": {
      "text/html": [
       "<div>\n",
       "<style scoped>\n",
       "    .dataframe tbody tr th:only-of-type {\n",
       "        vertical-align: middle;\n",
       "    }\n",
       "\n",
       "    .dataframe tbody tr th {\n",
       "        vertical-align: top;\n",
       "    }\n",
       "\n",
       "    .dataframe thead th {\n",
       "        text-align: right;\n",
       "    }\n",
       "</style>\n",
       "<table border=\"1\" class=\"dataframe\">\n",
       "  <thead>\n",
       "    <tr style=\"text-align: right;\">\n",
       "      <th></th>\n",
       "      <th>country</th>\n",
       "      <th>location_name</th>\n",
       "      <th>latitude</th>\n",
       "      <th>longitude</th>\n",
       "      <th>timezone</th>\n",
       "      <th>last_updated_epoch</th>\n",
       "      <th>last_updated</th>\n",
       "      <th>temperature_celsius</th>\n",
       "      <th>temperature_fahrenheit</th>\n",
       "      <th>condition_text</th>\n",
       "      <th>...</th>\n",
       "      <th>air_quality_PM2.5</th>\n",
       "      <th>air_quality_PM10</th>\n",
       "      <th>air_quality_us-epa-index</th>\n",
       "      <th>air_quality_gb-defra-index</th>\n",
       "      <th>sunrise</th>\n",
       "      <th>sunset</th>\n",
       "      <th>moonrise</th>\n",
       "      <th>moonset</th>\n",
       "      <th>moon_phase</th>\n",
       "      <th>moon_illumination</th>\n",
       "    </tr>\n",
       "  </thead>\n",
       "  <tbody>\n",
       "    <tr>\n",
       "      <th>0</th>\n",
       "      <td>Afghanistan</td>\n",
       "      <td>Kabul</td>\n",
       "      <td>34.52</td>\n",
       "      <td>69.18</td>\n",
       "      <td>Asia/Kabul</td>\n",
       "      <td>1693301400</td>\n",
       "      <td>29/08/2023 14:00</td>\n",
       "      <td>28.8</td>\n",
       "      <td>83.8</td>\n",
       "      <td>Sunny</td>\n",
       "      <td>...</td>\n",
       "      <td>7.9</td>\n",
       "      <td>11.1</td>\n",
       "      <td>1</td>\n",
       "      <td>1</td>\n",
       "      <td>5:24 AM</td>\n",
       "      <td>6:24 PM</td>\n",
       "      <td>5:39 PM</td>\n",
       "      <td>2:48 AM</td>\n",
       "      <td>Waxing Gibbous</td>\n",
       "      <td>93</td>\n",
       "    </tr>\n",
       "    <tr>\n",
       "      <th>1</th>\n",
       "      <td>Albania</td>\n",
       "      <td>Tirana</td>\n",
       "      <td>41.33</td>\n",
       "      <td>19.82</td>\n",
       "      <td>Europe/Tirane</td>\n",
       "      <td>1693301400</td>\n",
       "      <td>29/08/2023 11:30</td>\n",
       "      <td>27.0</td>\n",
       "      <td>80.6</td>\n",
       "      <td>Partly cloudy</td>\n",
       "      <td>...</td>\n",
       "      <td>28.2</td>\n",
       "      <td>29.6</td>\n",
       "      <td>2</td>\n",
       "      <td>3</td>\n",
       "      <td>6:04 AM</td>\n",
       "      <td>7:19 PM</td>\n",
       "      <td>6:50 PM</td>\n",
       "      <td>3:25 AM</td>\n",
       "      <td>Waxing Gibbous</td>\n",
       "      <td>93</td>\n",
       "    </tr>\n",
       "    <tr>\n",
       "      <th>2</th>\n",
       "      <td>Algeria</td>\n",
       "      <td>Algiers</td>\n",
       "      <td>36.76</td>\n",
       "      <td>3.05</td>\n",
       "      <td>Africa/Algiers</td>\n",
       "      <td>1693301400</td>\n",
       "      <td>29/08/2023 10:30</td>\n",
       "      <td>28.0</td>\n",
       "      <td>82.4</td>\n",
       "      <td>Partly cloudy</td>\n",
       "      <td>...</td>\n",
       "      <td>6.4</td>\n",
       "      <td>7.9</td>\n",
       "      <td>1</td>\n",
       "      <td>1</td>\n",
       "      <td>6:16 AM</td>\n",
       "      <td>7:21 PM</td>\n",
       "      <td>6:46 PM</td>\n",
       "      <td>3:50 AM</td>\n",
       "      <td>Waxing Gibbous</td>\n",
       "      <td>93</td>\n",
       "    </tr>\n",
       "    <tr>\n",
       "      <th>3</th>\n",
       "      <td>Andorra</td>\n",
       "      <td>Andorra La Vella</td>\n",
       "      <td>42.50</td>\n",
       "      <td>1.52</td>\n",
       "      <td>Europe/Andorra</td>\n",
       "      <td>1693301400</td>\n",
       "      <td>29/08/2023 11:30</td>\n",
       "      <td>10.2</td>\n",
       "      <td>50.4</td>\n",
       "      <td>Sunny</td>\n",
       "      <td>...</td>\n",
       "      <td>0.5</td>\n",
       "      <td>0.8</td>\n",
       "      <td>1</td>\n",
       "      <td>1</td>\n",
       "      <td>7:16 AM</td>\n",
       "      <td>8:34 PM</td>\n",
       "      <td>8:08 PM</td>\n",
       "      <td>4:38 AM</td>\n",
       "      <td>Waxing Gibbous</td>\n",
       "      <td>93</td>\n",
       "    </tr>\n",
       "    <tr>\n",
       "      <th>4</th>\n",
       "      <td>Andorra</td>\n",
       "      <td>Andorra La Vella</td>\n",
       "      <td>42.50</td>\n",
       "      <td>1.52</td>\n",
       "      <td>Europe/Andorra</td>\n",
       "      <td>1693301400</td>\n",
       "      <td>29/08/2023 11:30</td>\n",
       "      <td>10.2</td>\n",
       "      <td>50.4</td>\n",
       "      <td>Sunny</td>\n",
       "      <td>...</td>\n",
       "      <td>0.5</td>\n",
       "      <td>0.8</td>\n",
       "      <td>1</td>\n",
       "      <td>1</td>\n",
       "      <td>7:16 AM</td>\n",
       "      <td>8:34 PM</td>\n",
       "      <td>8:08 PM</td>\n",
       "      <td>4:38 AM</td>\n",
       "      <td>Waxing Gibbous</td>\n",
       "      <td>93</td>\n",
       "    </tr>\n",
       "    <tr>\n",
       "      <th>5</th>\n",
       "      <td>Angola</td>\n",
       "      <td>Luanda</td>\n",
       "      <td>-8.84</td>\n",
       "      <td>13.23</td>\n",
       "      <td>Africa/Luanda</td>\n",
       "      <td>1693301400</td>\n",
       "      <td>29/08/2023 10:30</td>\n",
       "      <td>25.0</td>\n",
       "      <td>77.0</td>\n",
       "      <td>Partly cloudy</td>\n",
       "      <td>...</td>\n",
       "      <td>139.6</td>\n",
       "      <td>203.3</td>\n",
       "      <td>4</td>\n",
       "      <td>10</td>\n",
       "      <td>6:11 AM</td>\n",
       "      <td>6:06 PM</td>\n",
       "      <td>4:43 PM</td>\n",
       "      <td>4:41 AM</td>\n",
       "      <td>Waxing Gibbous</td>\n",
       "      <td>93</td>\n",
       "    </tr>\n",
       "    <tr>\n",
       "      <th>6</th>\n",
       "      <td>Antigua and Barbuda</td>\n",
       "      <td>Saint John's</td>\n",
       "      <td>17.12</td>\n",
       "      <td>-61.85</td>\n",
       "      <td>America/Antigua</td>\n",
       "      <td>1693301400</td>\n",
       "      <td>29/08/2023 05:30</td>\n",
       "      <td>29.0</td>\n",
       "      <td>84.2</td>\n",
       "      <td>Light rain</td>\n",
       "      <td>...</td>\n",
       "      <td>0.8</td>\n",
       "      <td>1.9</td>\n",
       "      <td>1</td>\n",
       "      <td>1</td>\n",
       "      <td>5:53 AM</td>\n",
       "      <td>6:23 PM</td>\n",
       "      <td>5:36 PM</td>\n",
       "      <td>4:09 AM</td>\n",
       "      <td>Waxing Gibbous</td>\n",
       "      <td>93</td>\n",
       "    </tr>\n",
       "    <tr>\n",
       "      <th>7</th>\n",
       "      <td>Argentina</td>\n",
       "      <td>Buenos Aires</td>\n",
       "      <td>-34.59</td>\n",
       "      <td>-58.67</td>\n",
       "      <td>America/Argentina/Buenos_Aires</td>\n",
       "      <td>1693301400</td>\n",
       "      <td>29/08/2023 06:30</td>\n",
       "      <td>9.0</td>\n",
       "      <td>48.2</td>\n",
       "      <td>Clear</td>\n",
       "      <td>...</td>\n",
       "      <td>2.1</td>\n",
       "      <td>3.5</td>\n",
       "      <td>1</td>\n",
       "      <td>1</td>\n",
       "      <td>7:18 AM</td>\n",
       "      <td>6:34 PM</td>\n",
       "      <td>4:57 PM</td>\n",
       "      <td>6:32 AM</td>\n",
       "      <td>Waxing Gibbous</td>\n",
       "      <td>93</td>\n",
       "    </tr>\n",
       "    <tr>\n",
       "      <th>8</th>\n",
       "      <td>Armenia</td>\n",
       "      <td>Yerevan</td>\n",
       "      <td>40.18</td>\n",
       "      <td>44.51</td>\n",
       "      <td>Asia/Yerevan</td>\n",
       "      <td>1693301400</td>\n",
       "      <td>29/08/2023 13:30</td>\n",
       "      <td>31.0</td>\n",
       "      <td>87.8</td>\n",
       "      <td>Partly cloudy</td>\n",
       "      <td>...</td>\n",
       "      <td>5.0</td>\n",
       "      <td>6.2</td>\n",
       "      <td>1</td>\n",
       "      <td>1</td>\n",
       "      <td>6:26 AM</td>\n",
       "      <td>7:39 PM</td>\n",
       "      <td>7:05 PM</td>\n",
       "      <td>3:45 AM</td>\n",
       "      <td>Waxing Gibbous</td>\n",
       "      <td>93</td>\n",
       "    </tr>\n",
       "    <tr>\n",
       "      <th>9</th>\n",
       "      <td>Armenia</td>\n",
       "      <td>Yerevan</td>\n",
       "      <td>40.18</td>\n",
       "      <td>44.51</td>\n",
       "      <td>Asia/Yerevan</td>\n",
       "      <td>1693301400</td>\n",
       "      <td>29/08/2023 13:30</td>\n",
       "      <td>31.0</td>\n",
       "      <td>87.8</td>\n",
       "      <td>Partly cloudy</td>\n",
       "      <td>...</td>\n",
       "      <td>5.0</td>\n",
       "      <td>6.2</td>\n",
       "      <td>1</td>\n",
       "      <td>1</td>\n",
       "      <td>6:26 AM</td>\n",
       "      <td>7:39 PM</td>\n",
       "      <td>7:05 PM</td>\n",
       "      <td>3:45 AM</td>\n",
       "      <td>Waxing Gibbous</td>\n",
       "      <td>93</td>\n",
       "    </tr>\n",
       "  </tbody>\n",
       "</table>\n",
       "<p>10 rows × 41 columns</p>\n",
       "</div>"
      ],
      "text/plain": [
       "               country     location_name  latitude  longitude  \\\n",
       "0          Afghanistan             Kabul     34.52      69.18   \n",
       "1              Albania            Tirana     41.33      19.82   \n",
       "2              Algeria           Algiers     36.76       3.05   \n",
       "3              Andorra  Andorra La Vella     42.50       1.52   \n",
       "4              Andorra  Andorra La Vella     42.50       1.52   \n",
       "5               Angola            Luanda     -8.84      13.23   \n",
       "6  Antigua and Barbuda      Saint John's     17.12     -61.85   \n",
       "7            Argentina      Buenos Aires    -34.59     -58.67   \n",
       "8              Armenia           Yerevan     40.18      44.51   \n",
       "9              Armenia           Yerevan     40.18      44.51   \n",
       "\n",
       "                         timezone  last_updated_epoch      last_updated  \\\n",
       "0                      Asia/Kabul          1693301400  29/08/2023 14:00   \n",
       "1                   Europe/Tirane          1693301400  29/08/2023 11:30   \n",
       "2                  Africa/Algiers          1693301400  29/08/2023 10:30   \n",
       "3                  Europe/Andorra          1693301400  29/08/2023 11:30   \n",
       "4                  Europe/Andorra          1693301400  29/08/2023 11:30   \n",
       "5                   Africa/Luanda          1693301400  29/08/2023 10:30   \n",
       "6                 America/Antigua          1693301400  29/08/2023 05:30   \n",
       "7  America/Argentina/Buenos_Aires          1693301400  29/08/2023 06:30   \n",
       "8                    Asia/Yerevan          1693301400  29/08/2023 13:30   \n",
       "9                    Asia/Yerevan          1693301400  29/08/2023 13:30   \n",
       "\n",
       "   temperature_celsius  temperature_fahrenheit condition_text  ...  \\\n",
       "0                 28.8                    83.8          Sunny  ...   \n",
       "1                 27.0                    80.6  Partly cloudy  ...   \n",
       "2                 28.0                    82.4  Partly cloudy  ...   \n",
       "3                 10.2                    50.4          Sunny  ...   \n",
       "4                 10.2                    50.4          Sunny  ...   \n",
       "5                 25.0                    77.0  Partly cloudy  ...   \n",
       "6                 29.0                    84.2     Light rain  ...   \n",
       "7                  9.0                    48.2          Clear  ...   \n",
       "8                 31.0                    87.8  Partly cloudy  ...   \n",
       "9                 31.0                    87.8  Partly cloudy  ...   \n",
       "\n",
       "   air_quality_PM2.5  air_quality_PM10  air_quality_us-epa-index  \\\n",
       "0                7.9              11.1                         1   \n",
       "1               28.2              29.6                         2   \n",
       "2                6.4               7.9                         1   \n",
       "3                0.5               0.8                         1   \n",
       "4                0.5               0.8                         1   \n",
       "5              139.6             203.3                         4   \n",
       "6                0.8               1.9                         1   \n",
       "7                2.1               3.5                         1   \n",
       "8                5.0               6.2                         1   \n",
       "9                5.0               6.2                         1   \n",
       "\n",
       "  air_quality_gb-defra-index  sunrise   sunset  moonrise  moonset  \\\n",
       "0                          1  5:24 AM  6:24 PM   5:39 PM  2:48 AM   \n",
       "1                          3  6:04 AM  7:19 PM   6:50 PM  3:25 AM   \n",
       "2                          1  6:16 AM  7:21 PM   6:46 PM  3:50 AM   \n",
       "3                          1  7:16 AM  8:34 PM   8:08 PM  4:38 AM   \n",
       "4                          1  7:16 AM  8:34 PM   8:08 PM  4:38 AM   \n",
       "5                         10  6:11 AM  6:06 PM   4:43 PM  4:41 AM   \n",
       "6                          1  5:53 AM  6:23 PM   5:36 PM  4:09 AM   \n",
       "7                          1  7:18 AM  6:34 PM   4:57 PM  6:32 AM   \n",
       "8                          1  6:26 AM  7:39 PM   7:05 PM  3:45 AM   \n",
       "9                          1  6:26 AM  7:39 PM   7:05 PM  3:45 AM   \n",
       "\n",
       "       moon_phase  moon_illumination  \n",
       "0  Waxing Gibbous                 93  \n",
       "1  Waxing Gibbous                 93  \n",
       "2  Waxing Gibbous                 93  \n",
       "3  Waxing Gibbous                 93  \n",
       "4  Waxing Gibbous                 93  \n",
       "5  Waxing Gibbous                 93  \n",
       "6  Waxing Gibbous                 93  \n",
       "7  Waxing Gibbous                 93  \n",
       "8  Waxing Gibbous                 93  \n",
       "9  Waxing Gibbous                 93  \n",
       "\n",
       "[10 rows x 41 columns]"
      ]
     },
     "execution_count": 13,
     "metadata": {},
     "output_type": "execute_result"
    }
   ],
   "source": [
    "df_2.head(10)"
   ]
  },
  {
   "cell_type": "code",
   "execution_count": 14,
   "metadata": {},
   "outputs": [],
   "source": [
    "x =  df_2.iloc[:, 29:35]\n",
    "y = df_2.drop(columns=\"condition_text\")"
   ]
  },
  {
   "cell_type": "markdown",
   "metadata": {},
   "source": [
    "_membuat sebuah set x dan y berdasarkan dataset baru yang di copy_"
   ]
  },
  {
   "cell_type": "code",
   "execution_count": 15,
   "metadata": {},
   "outputs": [
    {
     "name": "stdout",
     "output_type": "stream",
     "text": [
      "Ini x_train :  (3546, 6)\n",
      "Ini x_test :  (1521, 6)\n",
      "Ini y_train :  (3546, 40)\n",
      "Ini y_test :  (1521, 40)\n"
     ]
    }
   ],
   "source": [
    "x_train, x_test, y_train, y_test = train_test_split(x, y, test_size=0.3)\n",
    "print(\"Ini x_train : \", x_train.shape)\n",
    "print(\"Ini x_test : \", x_test.shape)\n",
    "print(\"Ini y_train : \", y_train.shape)\n",
    "print(\"Ini y_test : \", y_test.shape)"
   ]
  },
  {
   "cell_type": "markdown",
   "metadata": {},
   "source": [
    "### Membuat sebuah standarisasi data yang ada pada dataset"
   ]
  },
  {
   "cell_type": "code",
   "execution_count": 16,
   "metadata": {},
   "outputs": [],
   "source": [
    "ss = StandardScaler()\n",
    "ss.fit(x_train)\n",
    "X_train_scaled = ss.transform(x_train)\n",
    "X_test_scaled = ss.transform(x_test)"
   ]
  },
  {
   "cell_type": "code",
   "execution_count": 17,
   "metadata": {},
   "outputs": [
    {
     "name": "stdout",
     "output_type": "stream",
     "text": [
      "Nilai Standar deviasi data:  1.0\n"
     ]
    }
   ],
   "source": [
    "print(\"Nilai Standar deviasi data: \", np.std(X_train_scaled))"
   ]
  },
  {
   "cell_type": "markdown",
   "metadata": {},
   "source": [
    "_standarisasi data yang di lakukan berhasil, dan nilai standarisasi = 1_"
   ]
  },
  {
   "cell_type": "code",
   "execution_count": 18,
   "metadata": {},
   "outputs": [],
   "source": [
    "mm = MinMaxScaler()\n",
    "mm.fit(x_train)\n",
    "X_train_normalized = mm.transform(x_train)"
   ]
  },
  {
   "cell_type": "markdown",
   "metadata": {},
   "source": [
    "### Berikut merupakan hasil dari normalisasi data yang di lakukan"
   ]
  },
  {
   "cell_type": "code",
   "execution_count": 19,
   "metadata": {},
   "outputs": [
    {
     "name": "stdout",
     "output_type": "stream",
     "text": [
      "Nilai Normalisasi data Min:  0.0\n",
      "Nilai Normalisasi data max:  1.0000000000000002\n"
     ]
    }
   ],
   "source": [
    "print(\"Nilai Normalisasi data Min: \", np.min(X_train_normalized))\n",
    "print(\"Nilai Normalisasi data max: \", np.max(X_train_normalized))"
   ]
  },
  {
   "cell_type": "markdown",
   "metadata": {},
   "source": [
    "### Merubah Jenis tipe data Float pada dataset menjadi Integer"
   ]
  },
  {
   "cell_type": "code",
   "execution_count": 20,
   "metadata": {},
   "outputs": [
    {
     "data": {
      "text/plain": [
       "Index(['latitude', 'longitude', 'temperature_celsius',\n",
       "       'temperature_fahrenheit', 'wind_mph', 'wind_kph', 'pressure_mb',\n",
       "       'pressure_in', 'precip_mm', 'precip_in', 'feels_like_celsius',\n",
       "       'feels_like_fahrenheit', 'visibility_km', 'visibility_miles',\n",
       "       'uv_index', 'gust_mph', 'gust_kph', 'air_quality_Ozone',\n",
       "       'air_quality_Nitrogen_dioxide', 'air_quality_Sulphur_dioxide',\n",
       "       'air_quality_PM2.5', 'air_quality_PM10'],\n",
       "      dtype='object')"
      ]
     },
     "execution_count": 20,
     "metadata": {},
     "output_type": "execute_result"
    }
   ],
   "source": [
    "float_columns = df.select_dtypes(include='float')\n",
    "float_columns.columns"
   ]
  },
  {
   "cell_type": "markdown",
   "metadata": {},
   "source": [
    "_Mengecek berbagai colom yang bertipe float_"
   ]
  },
  {
   "cell_type": "code",
   "execution_count": 21,
   "metadata": {},
   "outputs": [
    {
     "data": {
      "text/plain": [
       "Index(['last_updated_epoch', 'wind_degree', 'humidity', 'cloud',\n",
       "       'air_quality_us-epa-index', 'air_quality_gb-defra-index',\n",
       "       'moon_illumination'],\n",
       "      dtype='object')"
      ]
     },
     "execution_count": 21,
     "metadata": {},
     "output_type": "execute_result"
    }
   ],
   "source": [
    "int_columns = df.select_dtypes(include='int')\n",
    "int_columns.columns"
   ]
  },
  {
   "cell_type": "markdown",
   "metadata": {},
   "source": [
    "_Mengecek berbagai colom yang bertipe int_"
   ]
  },
  {
   "cell_type": "code",
   "execution_count": 22,
   "metadata": {},
   "outputs": [],
   "source": [
    "df[['gust_kph', 'longitude' ]] = df[['gust_kph', 'longitude' ]].astype(int)"
   ]
  },
  {
   "cell_type": "code",
   "execution_count": 23,
   "metadata": {},
   "outputs": [
    {
     "data": {
      "text/plain": [
       "Index(['longitude', 'last_updated_epoch', 'wind_degree', 'humidity', 'cloud',\n",
       "       'gust_kph', 'air_quality_us-epa-index', 'air_quality_gb-defra-index',\n",
       "       'moon_illumination'],\n",
       "      dtype='object')"
      ]
     },
     "execution_count": 23,
     "metadata": {},
     "output_type": "execute_result"
    }
   ],
   "source": [
    "int_columns = df.select_dtypes(include='int')\n",
    "int_columns.columns"
   ]
  },
  {
   "cell_type": "markdown",
   "metadata": {},
   "source": [
    "_longitude dan gust_kph masuk kedalam tipe data int dipastikan tipe datanya berubah_"
   ]
  },
  {
   "cell_type": "code",
   "execution_count": 24,
   "metadata": {},
   "outputs": [],
   "source": [
    "onehot = OneHotEncoder(sparse = False)"
   ]
  },
  {
   "cell_type": "code",
   "execution_count": 25,
   "metadata": {},
   "outputs": [
    {
     "name": "stderr",
     "output_type": "stream",
     "text": [
      "e:\\Data_C\\Documents\\KULIAH\\Codingan\\KB\\Pertemuan_4\\pertemuan_4\\lib\\site-packages\\sklearn\\preprocessing\\_encoders.py:975: FutureWarning: `sparse` was renamed to `sparse_output` in version 1.2 and will be removed in 1.4. `sparse_output` is ignored unless you leave `sparse` to its default value.\n",
      "  warnings.warn(\n"
     ]
    }
   ],
   "source": [
    "condition_encoded = onehot.fit_transform(df[[\"moon_phase\"]])"
   ]
  },
  {
   "cell_type": "code",
   "execution_count": 26,
   "metadata": {},
   "outputs": [
    {
     "data": {
      "text/plain": [
       "moon_phase\n",
       "Waxing Crescent    1362\n",
       "Waning Crescent    1170\n",
       "Waning Gibbous     1169\n",
       "Full Moon           390\n",
       "New Moon            390\n",
       "Waxing Gibbous      195\n",
       "Last Quarter        195\n",
       "First Quarter       194\n",
       "Name: count, dtype: int64"
      ]
     },
     "execution_count": 26,
     "metadata": {},
     "output_type": "execute_result"
    }
   ],
   "source": [
    "df.moon_phase.value_counts()"
   ]
  },
  {
   "cell_type": "code",
   "execution_count": 27,
   "metadata": {},
   "outputs": [
    {
     "data": {
      "text/html": [
       "<div>\n",
       "<style scoped>\n",
       "    .dataframe tbody tr th:only-of-type {\n",
       "        vertical-align: middle;\n",
       "    }\n",
       "\n",
       "    .dataframe tbody tr th {\n",
       "        vertical-align: top;\n",
       "    }\n",
       "\n",
       "    .dataframe thead th {\n",
       "        text-align: right;\n",
       "    }\n",
       "</style>\n",
       "<table border=\"1\" class=\"dataframe\">\n",
       "  <thead>\n",
       "    <tr style=\"text-align: right;\">\n",
       "      <th></th>\n",
       "      <th>country</th>\n",
       "      <th>location_name</th>\n",
       "      <th>latitude</th>\n",
       "      <th>longitude</th>\n",
       "      <th>timezone</th>\n",
       "      <th>last_updated_epoch</th>\n",
       "      <th>last_updated</th>\n",
       "      <th>temperature_celsius</th>\n",
       "      <th>temperature_fahrenheit</th>\n",
       "      <th>condition_text</th>\n",
       "      <th>...</th>\n",
       "      <th>moon_phase</th>\n",
       "      <th>moon_illumination</th>\n",
       "      <th>Waxing Crescent</th>\n",
       "      <th>Waning Crescent</th>\n",
       "      <th>Waning Gibbous</th>\n",
       "      <th>Full Moon</th>\n",
       "      <th>New Moon</th>\n",
       "      <th>Waxing Gibbous</th>\n",
       "      <th>Last Quarter</th>\n",
       "      <th>First Quarter</th>\n",
       "    </tr>\n",
       "  </thead>\n",
       "  <tbody>\n",
       "    <tr>\n",
       "      <th>0</th>\n",
       "      <td>Afghanistan</td>\n",
       "      <td>Kabul</td>\n",
       "      <td>34.52</td>\n",
       "      <td>69</td>\n",
       "      <td>Asia/Kabul</td>\n",
       "      <td>1693301400</td>\n",
       "      <td>29/08/2023 14:00</td>\n",
       "      <td>28.8</td>\n",
       "      <td>83.8</td>\n",
       "      <td>Sunny</td>\n",
       "      <td>...</td>\n",
       "      <td>Waxing Gibbous</td>\n",
       "      <td>93</td>\n",
       "      <td>0.0</td>\n",
       "      <td>0.0</td>\n",
       "      <td>0.0</td>\n",
       "      <td>0.0</td>\n",
       "      <td>0.0</td>\n",
       "      <td>1.0</td>\n",
       "      <td>0.0</td>\n",
       "      <td>0.0</td>\n",
       "    </tr>\n",
       "    <tr>\n",
       "      <th>1</th>\n",
       "      <td>Albania</td>\n",
       "      <td>Tirana</td>\n",
       "      <td>41.33</td>\n",
       "      <td>19</td>\n",
       "      <td>Europe/Tirane</td>\n",
       "      <td>1693301400</td>\n",
       "      <td>29/08/2023 11:30</td>\n",
       "      <td>27.0</td>\n",
       "      <td>80.6</td>\n",
       "      <td>Partly cloudy</td>\n",
       "      <td>...</td>\n",
       "      <td>Waxing Gibbous</td>\n",
       "      <td>93</td>\n",
       "      <td>0.0</td>\n",
       "      <td>0.0</td>\n",
       "      <td>0.0</td>\n",
       "      <td>0.0</td>\n",
       "      <td>0.0</td>\n",
       "      <td>1.0</td>\n",
       "      <td>0.0</td>\n",
       "      <td>0.0</td>\n",
       "    </tr>\n",
       "    <tr>\n",
       "      <th>2</th>\n",
       "      <td>Algeria</td>\n",
       "      <td>Algiers</td>\n",
       "      <td>36.76</td>\n",
       "      <td>3</td>\n",
       "      <td>Africa/Algiers</td>\n",
       "      <td>1693301400</td>\n",
       "      <td>29/08/2023 10:30</td>\n",
       "      <td>28.0</td>\n",
       "      <td>82.4</td>\n",
       "      <td>Partly cloudy</td>\n",
       "      <td>...</td>\n",
       "      <td>Waxing Gibbous</td>\n",
       "      <td>93</td>\n",
       "      <td>0.0</td>\n",
       "      <td>0.0</td>\n",
       "      <td>0.0</td>\n",
       "      <td>0.0</td>\n",
       "      <td>0.0</td>\n",
       "      <td>1.0</td>\n",
       "      <td>0.0</td>\n",
       "      <td>0.0</td>\n",
       "    </tr>\n",
       "    <tr>\n",
       "      <th>3</th>\n",
       "      <td>Andorra</td>\n",
       "      <td>Andorra La Vella</td>\n",
       "      <td>42.50</td>\n",
       "      <td>1</td>\n",
       "      <td>Europe/Andorra</td>\n",
       "      <td>1693301400</td>\n",
       "      <td>29/08/2023 11:30</td>\n",
       "      <td>10.2</td>\n",
       "      <td>50.4</td>\n",
       "      <td>Sunny</td>\n",
       "      <td>...</td>\n",
       "      <td>Waxing Gibbous</td>\n",
       "      <td>93</td>\n",
       "      <td>0.0</td>\n",
       "      <td>0.0</td>\n",
       "      <td>0.0</td>\n",
       "      <td>0.0</td>\n",
       "      <td>0.0</td>\n",
       "      <td>1.0</td>\n",
       "      <td>0.0</td>\n",
       "      <td>0.0</td>\n",
       "    </tr>\n",
       "    <tr>\n",
       "      <th>5</th>\n",
       "      <td>Angola</td>\n",
       "      <td>Luanda</td>\n",
       "      <td>-8.84</td>\n",
       "      <td>13</td>\n",
       "      <td>Africa/Luanda</td>\n",
       "      <td>1693301400</td>\n",
       "      <td>29/08/2023 10:30</td>\n",
       "      <td>25.0</td>\n",
       "      <td>77.0</td>\n",
       "      <td>Partly cloudy</td>\n",
       "      <td>...</td>\n",
       "      <td>Waxing Gibbous</td>\n",
       "      <td>93</td>\n",
       "      <td>0.0</td>\n",
       "      <td>0.0</td>\n",
       "      <td>0.0</td>\n",
       "      <td>0.0</td>\n",
       "      <td>0.0</td>\n",
       "      <td>1.0</td>\n",
       "      <td>0.0</td>\n",
       "      <td>0.0</td>\n",
       "    </tr>\n",
       "    <tr>\n",
       "      <th>...</th>\n",
       "      <td>...</td>\n",
       "      <td>...</td>\n",
       "      <td>...</td>\n",
       "      <td>...</td>\n",
       "      <td>...</td>\n",
       "      <td>...</td>\n",
       "      <td>...</td>\n",
       "      <td>...</td>\n",
       "      <td>...</td>\n",
       "      <td>...</td>\n",
       "      <td>...</td>\n",
       "      <td>...</td>\n",
       "      <td>...</td>\n",
       "      <td>...</td>\n",
       "      <td>...</td>\n",
       "      <td>...</td>\n",
       "      <td>...</td>\n",
       "      <td>...</td>\n",
       "      <td>...</td>\n",
       "      <td>...</td>\n",
       "      <td>...</td>\n",
       "    </tr>\n",
       "    <tr>\n",
       "      <th>5062</th>\n",
       "      <td>Venezuela</td>\n",
       "      <td>Caracas</td>\n",
       "      <td>10.50</td>\n",
       "      <td>-66</td>\n",
       "      <td>America/Caracas</td>\n",
       "      <td>1695420900</td>\n",
       "      <td>22/09/2023 18:15</td>\n",
       "      <td>29.0</td>\n",
       "      <td>84.2</td>\n",
       "      <td>Sunny</td>\n",
       "      <td>...</td>\n",
       "      <td>First Quarter</td>\n",
       "      <td>41</td>\n",
       "      <td>0.0</td>\n",
       "      <td>0.0</td>\n",
       "      <td>0.0</td>\n",
       "      <td>0.0</td>\n",
       "      <td>0.0</td>\n",
       "      <td>0.0</td>\n",
       "      <td>0.0</td>\n",
       "      <td>1.0</td>\n",
       "    </tr>\n",
       "    <tr>\n",
       "      <th>5063</th>\n",
       "      <td>Vietnam</td>\n",
       "      <td>Hanoi</td>\n",
       "      <td>21.03</td>\n",
       "      <td>105</td>\n",
       "      <td>Asia/Bangkok</td>\n",
       "      <td>1695420900</td>\n",
       "      <td>23/09/2023 05:15</td>\n",
       "      <td>27.0</td>\n",
       "      <td>80.6</td>\n",
       "      <td>Clear</td>\n",
       "      <td>...</td>\n",
       "      <td>First Quarter</td>\n",
       "      <td>41</td>\n",
       "      <td>0.0</td>\n",
       "      <td>0.0</td>\n",
       "      <td>0.0</td>\n",
       "      <td>0.0</td>\n",
       "      <td>0.0</td>\n",
       "      <td>0.0</td>\n",
       "      <td>0.0</td>\n",
       "      <td>1.0</td>\n",
       "    </tr>\n",
       "    <tr>\n",
       "      <th>5064</th>\n",
       "      <td>Yemen</td>\n",
       "      <td>Sanaa</td>\n",
       "      <td>15.35</td>\n",
       "      <td>44</td>\n",
       "      <td>Asia/Aden</td>\n",
       "      <td>1695420900</td>\n",
       "      <td>23/09/2023 01:15</td>\n",
       "      <td>17.1</td>\n",
       "      <td>62.9</td>\n",
       "      <td>Clear</td>\n",
       "      <td>...</td>\n",
       "      <td>First Quarter</td>\n",
       "      <td>41</td>\n",
       "      <td>0.0</td>\n",
       "      <td>0.0</td>\n",
       "      <td>0.0</td>\n",
       "      <td>0.0</td>\n",
       "      <td>0.0</td>\n",
       "      <td>0.0</td>\n",
       "      <td>0.0</td>\n",
       "      <td>1.0</td>\n",
       "    </tr>\n",
       "    <tr>\n",
       "      <th>5065</th>\n",
       "      <td>Zambia</td>\n",
       "      <td>Lusaka</td>\n",
       "      <td>-15.42</td>\n",
       "      <td>28</td>\n",
       "      <td>Africa/Lusaka</td>\n",
       "      <td>1695420900</td>\n",
       "      <td>23/09/2023 00:15</td>\n",
       "      <td>22.1</td>\n",
       "      <td>71.8</td>\n",
       "      <td>Clear</td>\n",
       "      <td>...</td>\n",
       "      <td>First Quarter</td>\n",
       "      <td>41</td>\n",
       "      <td>NaN</td>\n",
       "      <td>NaN</td>\n",
       "      <td>NaN</td>\n",
       "      <td>NaN</td>\n",
       "      <td>NaN</td>\n",
       "      <td>NaN</td>\n",
       "      <td>NaN</td>\n",
       "      <td>NaN</td>\n",
       "    </tr>\n",
       "    <tr>\n",
       "      <th>5066</th>\n",
       "      <td>Zimbabwe</td>\n",
       "      <td>Harare</td>\n",
       "      <td>-17.82</td>\n",
       "      <td>31</td>\n",
       "      <td>Africa/Harare</td>\n",
       "      <td>1695420900</td>\n",
       "      <td>23/09/2023 00:15</td>\n",
       "      <td>18.6</td>\n",
       "      <td>65.6</td>\n",
       "      <td>Clear</td>\n",
       "      <td>...</td>\n",
       "      <td>First Quarter</td>\n",
       "      <td>41</td>\n",
       "      <td>NaN</td>\n",
       "      <td>NaN</td>\n",
       "      <td>NaN</td>\n",
       "      <td>NaN</td>\n",
       "      <td>NaN</td>\n",
       "      <td>NaN</td>\n",
       "      <td>NaN</td>\n",
       "      <td>NaN</td>\n",
       "    </tr>\n",
       "  </tbody>\n",
       "</table>\n",
       "<p>5065 rows × 49 columns</p>\n",
       "</div>"
      ],
      "text/plain": [
       "          country     location_name  latitude  longitude         timezone  \\\n",
       "0     Afghanistan             Kabul     34.52         69       Asia/Kabul   \n",
       "1         Albania            Tirana     41.33         19    Europe/Tirane   \n",
       "2         Algeria           Algiers     36.76          3   Africa/Algiers   \n",
       "3         Andorra  Andorra La Vella     42.50          1   Europe/Andorra   \n",
       "5          Angola            Luanda     -8.84         13    Africa/Luanda   \n",
       "...           ...               ...       ...        ...              ...   \n",
       "5062    Venezuela           Caracas     10.50        -66  America/Caracas   \n",
       "5063      Vietnam             Hanoi     21.03        105     Asia/Bangkok   \n",
       "5064        Yemen             Sanaa     15.35         44        Asia/Aden   \n",
       "5065       Zambia            Lusaka    -15.42         28    Africa/Lusaka   \n",
       "5066     Zimbabwe            Harare    -17.82         31    Africa/Harare   \n",
       "\n",
       "      last_updated_epoch      last_updated  temperature_celsius  \\\n",
       "0             1693301400  29/08/2023 14:00                 28.8   \n",
       "1             1693301400  29/08/2023 11:30                 27.0   \n",
       "2             1693301400  29/08/2023 10:30                 28.0   \n",
       "3             1693301400  29/08/2023 11:30                 10.2   \n",
       "5             1693301400  29/08/2023 10:30                 25.0   \n",
       "...                  ...               ...                  ...   \n",
       "5062          1695420900  22/09/2023 18:15                 29.0   \n",
       "5063          1695420900  23/09/2023 05:15                 27.0   \n",
       "5064          1695420900  23/09/2023 01:15                 17.1   \n",
       "5065          1695420900  23/09/2023 00:15                 22.1   \n",
       "5066          1695420900  23/09/2023 00:15                 18.6   \n",
       "\n",
       "      temperature_fahrenheit condition_text  ...      moon_phase  \\\n",
       "0                       83.8          Sunny  ...  Waxing Gibbous   \n",
       "1                       80.6  Partly cloudy  ...  Waxing Gibbous   \n",
       "2                       82.4  Partly cloudy  ...  Waxing Gibbous   \n",
       "3                       50.4          Sunny  ...  Waxing Gibbous   \n",
       "5                       77.0  Partly cloudy  ...  Waxing Gibbous   \n",
       "...                      ...            ...  ...             ...   \n",
       "5062                    84.2          Sunny  ...   First Quarter   \n",
       "5063                    80.6          Clear  ...   First Quarter   \n",
       "5064                    62.9          Clear  ...   First Quarter   \n",
       "5065                    71.8          Clear  ...   First Quarter   \n",
       "5066                    65.6          Clear  ...   First Quarter   \n",
       "\n",
       "      moon_illumination  Waxing Crescent Waning Crescent  Waning Gibbous  \\\n",
       "0                    93              0.0             0.0             0.0   \n",
       "1                    93              0.0             0.0             0.0   \n",
       "2                    93              0.0             0.0             0.0   \n",
       "3                    93              0.0             0.0             0.0   \n",
       "5                    93              0.0             0.0             0.0   \n",
       "...                 ...              ...             ...             ...   \n",
       "5062                 41              0.0             0.0             0.0   \n",
       "5063                 41              0.0             0.0             0.0   \n",
       "5064                 41              0.0             0.0             0.0   \n",
       "5065                 41              NaN             NaN             NaN   \n",
       "5066                 41              NaN             NaN             NaN   \n",
       "\n",
       "      Full Moon  New Moon  Waxing Gibbous  Last Quarter  First Quarter  \n",
       "0           0.0       0.0             1.0           0.0            0.0  \n",
       "1           0.0       0.0             1.0           0.0            0.0  \n",
       "2           0.0       0.0             1.0           0.0            0.0  \n",
       "3           0.0       0.0             1.0           0.0            0.0  \n",
       "5           0.0       0.0             1.0           0.0            0.0  \n",
       "...         ...       ...             ...           ...            ...  \n",
       "5062        0.0       0.0             0.0           0.0            1.0  \n",
       "5063        0.0       0.0             0.0           0.0            1.0  \n",
       "5064        0.0       0.0             0.0           0.0            1.0  \n",
       "5065        NaN       NaN             NaN           NaN            NaN  \n",
       "5066        NaN       NaN             NaN           NaN            NaN  \n",
       "\n",
       "[5065 rows x 49 columns]"
      ]
     },
     "execution_count": 27,
     "metadata": {},
     "output_type": "execute_result"
    }
   ],
   "source": [
    "condition_encoded = pd.DataFrame(condition_encoded)\n",
    "df[\"Waxing Crescent\"] = condition_encoded[6]\n",
    "df[\"Waning Crescent\"] = condition_encoded[4]\n",
    "df[\"Waning Gibbous\"] = condition_encoded[5]\n",
    "df[\"Full Moon\"] = condition_encoded[3]\n",
    "df[\"New Moon\"] = condition_encoded[1]\n",
    "df[\"Waxing Gibbous\"] = condition_encoded[7]\n",
    "df[\"Last Quarter\"] = condition_encoded[2]\n",
    "df[\"First Quarter\"] = condition_encoded[0]\n",
    "df"
   ]
  },
  {
   "cell_type": "code",
   "execution_count": 28,
   "metadata": {},
   "outputs": [
    {
     "name": "stdout",
     "output_type": "stream",
     "text": [
      "\n",
      "Kolom dengan nilai null:\n",
      "['Waxing Crescent', 'Waning Crescent', 'Waning Gibbous', 'Full Moon', 'New Moon', 'Waxing Gibbous', 'Last Quarter', 'First Quarter']\n",
      "\n",
      "Jumlah nilai null dalam masing-masing kolom:\n",
      "Waxing Crescent: 2\n",
      "Waning Crescent: 2\n",
      "Waning Gibbous: 2\n",
      "Full Moon: 2\n",
      "New Moon: 2\n",
      "Waxing Gibbous: 2\n",
      "Last Quarter: 2\n",
      "First Quarter: 2\n"
     ]
    }
   ],
   "source": [
    "kolom_dengan_null = []\n",
    "jumlah_null_per_kolom = {}\n",
    "\n",
    "for kolom in df.columns:\n",
    "    jumlah_null = df[kolom].isnull().sum()\n",
    "    if jumlah_null > 0:\n",
    "        kolom_dengan_null.append(kolom)\n",
    "        jumlah_null_per_kolom[kolom] = jumlah_null\n",
    "\n",
    "# Menampilkan nama-nama kolom yang hanya berisi nilai null dan jumlah nilai null dalam masing-masing kolom\n",
    "print(\"\\nKolom dengan nilai null:\")\n",
    "print(kolom_dengan_null)\n",
    "\n",
    "print(\"\\nJumlah nilai null dalam masing-masing kolom:\")\n",
    "for kolom, jumlah_null in jumlah_null_per_kolom.items():\n",
    "    print(f\"{kolom}: {jumlah_null}\")"
   ]
  }
 ],
 "metadata": {
  "kernelspec": {
   "display_name": "Python 3",
   "language": "python",
   "name": "python3"
  },
  "language_info": {
   "codemirror_mode": {
    "name": "ipython",
    "version": 3
   },
   "file_extension": ".py",
   "mimetype": "text/x-python",
   "name": "python",
   "nbconvert_exporter": "python",
   "pygments_lexer": "ipython3",
   "version": "3.10.7"
  }
 },
 "nbformat": 4,
 "nbformat_minor": 2
}
