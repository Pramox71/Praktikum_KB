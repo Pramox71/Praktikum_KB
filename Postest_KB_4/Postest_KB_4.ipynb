{
 "cells": [
  {
   "cell_type": "code",
   "execution_count": 263,
   "metadata": {},
   "outputs": [],
   "source": [
    "import pandas as pd\n",
    "import numpy as np\n",
    "import matplotlib as plt\n",
    "from sklearn.model_selection import train_test_split"
   ]
  },
  {
   "cell_type": "code",
   "execution_count": 264,
   "metadata": {},
   "outputs": [],
   "source": [
    "from sklearn.preprocessing import StandardScaler, MinMaxScaler\n",
    "from sklearn.preprocessing import OrdinalEncoder, OneHotEncoder\n",
    "from sklearn.impute import SimpleImputer"
   ]
  },
  {
   "cell_type": "markdown",
   "metadata": {},
   "source": [
    "## Mengimport segala jenis library yang di butuhkan"
   ]
  },
  {
   "cell_type": "code",
   "execution_count": 265,
   "metadata": {},
   "outputs": [],
   "source": [
    "df = pd.read_csv(\"GlobalWeatherRepository.csv\", sep=\";\")"
   ]
  },
  {
   "cell_type": "markdown",
   "metadata": {},
   "source": [
    "_Pertama akan di lakukan normalisasi data_"
   ]
  },
  {
   "cell_type": "code",
   "execution_count": 266,
   "metadata": {},
   "outputs": [
    {
     "name": "stdout",
     "output_type": "stream",
     "text": [
      "\n",
      "Jumlah Nilai Null per Kolom:\n",
      "condition_text       56\n",
      "air_quality_Ozone    76\n",
      "dtype: int64\n"
     ]
    }
   ],
   "source": [
    "null_count_per_column = df[[\"condition_text\", \"air_quality_Ozone\"]].isnull().sum()\n",
    "print(\"\\nJumlah Nilai Null per Kolom:\")\n",
    "print(null_count_per_column)"
   ]
  },
  {
   "cell_type": "markdown",
   "metadata": {},
   "source": [
    "Di dapatkan beberapa data yang bernilai null pada dataset <br>\n",
    "_Pertama data yang NULL akan di isi oleh modulus data dan mean data_"
   ]
  },
  {
   "cell_type": "code",
   "execution_count": 267,
   "metadata": {},
   "outputs": [
    {
     "data": {
      "text/plain": [
       "2"
      ]
     },
     "execution_count": 267,
     "metadata": {},
     "output_type": "execute_result"
    }
   ],
   "source": [
    "df.duplicated().sum()"
   ]
  },
  {
   "cell_type": "markdown",
   "metadata": {},
   "source": [
    "_Mengecek kemungkinan data yang duplicate_<br>\n",
    "_Dan bagian bawah ini adalah pengecekan dari hasil penghapusan data yang duplicate_"
   ]
  },
  {
   "cell_type": "code",
   "execution_count": 268,
   "metadata": {},
   "outputs": [
    {
     "data": {
      "text/plain": [
       "0"
      ]
     },
     "execution_count": 268,
     "metadata": {},
     "output_type": "execute_result"
    }
   ],
   "source": [
    "df = df.drop_duplicates().reset_index(drop=True)\n",
    "df.duplicated().sum()"
   ]
  },
  {
   "cell_type": "code",
   "execution_count": 269,
   "metadata": {},
   "outputs": [],
   "source": [
    "imputer = SimpleImputer(strategy=\"most_frequent\")\n"
   ]
  },
  {
   "cell_type": "code",
   "execution_count": 270,
   "metadata": {},
   "outputs": [],
   "source": [
    "cuaca = imputer.fit_transform(df[[\"condition_text\"]])\n",
    "df.air_quality_Ozone.fillna(df.air_quality_Ozone.mean(), inplace=True)\n",
    "df[[\"condition_text\"]] = cuaca"
   ]
  },
  {
   "cell_type": "markdown",
   "metadata": {},
   "source": [
    "### Pada bagian atas sudah dataset pada colom condition_text sudah di fill dengan modulus di bagian baris yang NULL <br>\n",
    "_Berikut adalah hasil pengecekan null_"
   ]
  },
  {
   "cell_type": "code",
   "execution_count": 271,
   "metadata": {},
   "outputs": [
    {
     "name": "stdout",
     "output_type": "stream",
     "text": [
      "\n",
      "Jumlah Nilai Null per Kolom:\n",
      "condition_text       0\n",
      "air_quality_Ozone    0\n",
      "moon_phase           0\n",
      "dtype: int64\n"
     ]
    }
   ],
   "source": [
    "null_count_per_column = df[[\"condition_text\", \"air_quality_Ozone\", \"moon_phase\"]].isnull().sum()\n",
    "print(\"\\nJumlah Nilai Null per Kolom:\")\n",
    "print(null_count_per_column)"
   ]
  },
  {
   "cell_type": "code",
   "execution_count": 272,
   "metadata": {},
   "outputs": [],
   "source": [
    "x =  df.iloc[:, 29:35]\n",
    "y = df.drop(columns=\"condition_text\")"
   ]
  },
  {
   "cell_type": "code",
   "execution_count": 273,
   "metadata": {},
   "outputs": [
    {
     "name": "stdout",
     "output_type": "stream",
     "text": [
      "Ini x_train :  (3545, 6)\n",
      "Ini x_test :  (1520, 6)\n",
      "Ini y_train :  (3545, 40)\n",
      "Ini y_test :  (1520, 40)\n"
     ]
    }
   ],
   "source": [
    "x_train, x_test, y_train, y_test = train_test_split(x, y, test_size=0.3)\n",
    "print(\"Ini x_train : \", x_train.shape)\n",
    "print(\"Ini x_test : \", x_test.shape)\n",
    "print(\"Ini y_train : \", y_train.shape)\n",
    "print(\"Ini y_test : \", y_test.shape)"
   ]
  },
  {
   "cell_type": "code",
   "execution_count": 274,
   "metadata": {},
   "outputs": [],
   "source": [
    "df_2 = pd.read_csv(\"GlobalWeatherRepository.csv\", sep=\";\")"
   ]
  },
  {
   "cell_type": "code",
   "execution_count": 275,
   "metadata": {},
   "outputs": [
    {
     "data": {
      "text/html": [
       "<div>\n",
       "<style scoped>\n",
       "    .dataframe tbody tr th:only-of-type {\n",
       "        vertical-align: middle;\n",
       "    }\n",
       "\n",
       "    .dataframe tbody tr th {\n",
       "        vertical-align: top;\n",
       "    }\n",
       "\n",
       "    .dataframe thead th {\n",
       "        text-align: right;\n",
       "    }\n",
       "</style>\n",
       "<table border=\"1\" class=\"dataframe\">\n",
       "  <thead>\n",
       "    <tr style=\"text-align: right;\">\n",
       "      <th></th>\n",
       "      <th>country</th>\n",
       "      <th>location_name</th>\n",
       "      <th>latitude</th>\n",
       "      <th>longitude</th>\n",
       "      <th>timezone</th>\n",
       "      <th>last_updated_epoch</th>\n",
       "      <th>last_updated</th>\n",
       "      <th>temperature_celsius</th>\n",
       "      <th>temperature_fahrenheit</th>\n",
       "      <th>condition_text</th>\n",
       "      <th>...</th>\n",
       "      <th>air_quality_PM2.5</th>\n",
       "      <th>air_quality_PM10</th>\n",
       "      <th>air_quality_us-epa-index</th>\n",
       "      <th>air_quality_gb-defra-index</th>\n",
       "      <th>sunrise</th>\n",
       "      <th>sunset</th>\n",
       "      <th>moonrise</th>\n",
       "      <th>moonset</th>\n",
       "      <th>moon_phase</th>\n",
       "      <th>moon_illumination</th>\n",
       "    </tr>\n",
       "  </thead>\n",
       "  <tbody>\n",
       "    <tr>\n",
       "      <th>0</th>\n",
       "      <td>Afghanistan</td>\n",
       "      <td>Kabul</td>\n",
       "      <td>34.52</td>\n",
       "      <td>69.18</td>\n",
       "      <td>Asia/Kabul</td>\n",
       "      <td>1693301400</td>\n",
       "      <td>29/08/2023 14:00</td>\n",
       "      <td>28.8</td>\n",
       "      <td>83.8</td>\n",
       "      <td>Sunny</td>\n",
       "      <td>...</td>\n",
       "      <td>7.9</td>\n",
       "      <td>11.1</td>\n",
       "      <td>1</td>\n",
       "      <td>1</td>\n",
       "      <td>5:24 AM</td>\n",
       "      <td>6:24 PM</td>\n",
       "      <td>5:39 PM</td>\n",
       "      <td>2:48 AM</td>\n",
       "      <td>Waxing Gibbous</td>\n",
       "      <td>93</td>\n",
       "    </tr>\n",
       "    <tr>\n",
       "      <th>1</th>\n",
       "      <td>Albania</td>\n",
       "      <td>Tirana</td>\n",
       "      <td>41.33</td>\n",
       "      <td>19.82</td>\n",
       "      <td>Europe/Tirane</td>\n",
       "      <td>1693301400</td>\n",
       "      <td>29/08/2023 11:30</td>\n",
       "      <td>27.0</td>\n",
       "      <td>80.6</td>\n",
       "      <td>Partly cloudy</td>\n",
       "      <td>...</td>\n",
       "      <td>28.2</td>\n",
       "      <td>29.6</td>\n",
       "      <td>2</td>\n",
       "      <td>3</td>\n",
       "      <td>6:04 AM</td>\n",
       "      <td>7:19 PM</td>\n",
       "      <td>6:50 PM</td>\n",
       "      <td>3:25 AM</td>\n",
       "      <td>Waxing Gibbous</td>\n",
       "      <td>93</td>\n",
       "    </tr>\n",
       "    <tr>\n",
       "      <th>2</th>\n",
       "      <td>Algeria</td>\n",
       "      <td>Algiers</td>\n",
       "      <td>36.76</td>\n",
       "      <td>3.05</td>\n",
       "      <td>Africa/Algiers</td>\n",
       "      <td>1693301400</td>\n",
       "      <td>29/08/2023 10:30</td>\n",
       "      <td>28.0</td>\n",
       "      <td>82.4</td>\n",
       "      <td>Partly cloudy</td>\n",
       "      <td>...</td>\n",
       "      <td>6.4</td>\n",
       "      <td>7.9</td>\n",
       "      <td>1</td>\n",
       "      <td>1</td>\n",
       "      <td>6:16 AM</td>\n",
       "      <td>7:21 PM</td>\n",
       "      <td>6:46 PM</td>\n",
       "      <td>3:50 AM</td>\n",
       "      <td>Waxing Gibbous</td>\n",
       "      <td>93</td>\n",
       "    </tr>\n",
       "    <tr>\n",
       "      <th>3</th>\n",
       "      <td>Andorra</td>\n",
       "      <td>Andorra La Vella</td>\n",
       "      <td>42.50</td>\n",
       "      <td>1.52</td>\n",
       "      <td>Europe/Andorra</td>\n",
       "      <td>1693301400</td>\n",
       "      <td>29/08/2023 11:30</td>\n",
       "      <td>10.2</td>\n",
       "      <td>50.4</td>\n",
       "      <td>Sunny</td>\n",
       "      <td>...</td>\n",
       "      <td>0.5</td>\n",
       "      <td>0.8</td>\n",
       "      <td>1</td>\n",
       "      <td>1</td>\n",
       "      <td>7:16 AM</td>\n",
       "      <td>8:34 PM</td>\n",
       "      <td>8:08 PM</td>\n",
       "      <td>4:38 AM</td>\n",
       "      <td>Waxing Gibbous</td>\n",
       "      <td>93</td>\n",
       "    </tr>\n",
       "    <tr>\n",
       "      <th>4</th>\n",
       "      <td>Andorra</td>\n",
       "      <td>Andorra La Vella</td>\n",
       "      <td>42.50</td>\n",
       "      <td>1.52</td>\n",
       "      <td>Europe/Andorra</td>\n",
       "      <td>1693301400</td>\n",
       "      <td>29/08/2023 11:30</td>\n",
       "      <td>10.2</td>\n",
       "      <td>50.4</td>\n",
       "      <td>Sunny</td>\n",
       "      <td>...</td>\n",
       "      <td>0.5</td>\n",
       "      <td>0.8</td>\n",
       "      <td>1</td>\n",
       "      <td>1</td>\n",
       "      <td>7:16 AM</td>\n",
       "      <td>8:34 PM</td>\n",
       "      <td>8:08 PM</td>\n",
       "      <td>4:38 AM</td>\n",
       "      <td>Waxing Gibbous</td>\n",
       "      <td>93</td>\n",
       "    </tr>\n",
       "    <tr>\n",
       "      <th>...</th>\n",
       "      <td>...</td>\n",
       "      <td>...</td>\n",
       "      <td>...</td>\n",
       "      <td>...</td>\n",
       "      <td>...</td>\n",
       "      <td>...</td>\n",
       "      <td>...</td>\n",
       "      <td>...</td>\n",
       "      <td>...</td>\n",
       "      <td>...</td>\n",
       "      <td>...</td>\n",
       "      <td>...</td>\n",
       "      <td>...</td>\n",
       "      <td>...</td>\n",
       "      <td>...</td>\n",
       "      <td>...</td>\n",
       "      <td>...</td>\n",
       "      <td>...</td>\n",
       "      <td>...</td>\n",
       "      <td>...</td>\n",
       "      <td>...</td>\n",
       "    </tr>\n",
       "    <tr>\n",
       "      <th>5062</th>\n",
       "      <td>Venezuela</td>\n",
       "      <td>Caracas</td>\n",
       "      <td>10.50</td>\n",
       "      <td>-66.92</td>\n",
       "      <td>America/Caracas</td>\n",
       "      <td>1695420900</td>\n",
       "      <td>22/09/2023 18:15</td>\n",
       "      <td>29.0</td>\n",
       "      <td>84.2</td>\n",
       "      <td>Sunny</td>\n",
       "      <td>...</td>\n",
       "      <td>39.6</td>\n",
       "      <td>40.4</td>\n",
       "      <td>2</td>\n",
       "      <td>4</td>\n",
       "      <td>6:17 AM</td>\n",
       "      <td>6:24 PM</td>\n",
       "      <td>12:36 PM</td>\n",
       "      <td>No moonset</td>\n",
       "      <td>First Quarter</td>\n",
       "      <td>41</td>\n",
       "    </tr>\n",
       "    <tr>\n",
       "      <th>5063</th>\n",
       "      <td>Vietnam</td>\n",
       "      <td>Hanoi</td>\n",
       "      <td>21.03</td>\n",
       "      <td>105.85</td>\n",
       "      <td>Asia/Bangkok</td>\n",
       "      <td>1695420900</td>\n",
       "      <td>23/09/2023 05:15</td>\n",
       "      <td>27.0</td>\n",
       "      <td>80.6</td>\n",
       "      <td>Clear</td>\n",
       "      <td>...</td>\n",
       "      <td>65.1</td>\n",
       "      <td>78.7</td>\n",
       "      <td>3</td>\n",
       "      <td>9</td>\n",
       "      <td>5:45 AM</td>\n",
       "      <td>5:54 PM</td>\n",
       "      <td>12:01 PM</td>\n",
       "      <td>10:52 PM</td>\n",
       "      <td>First Quarter</td>\n",
       "      <td>41</td>\n",
       "    </tr>\n",
       "    <tr>\n",
       "      <th>5064</th>\n",
       "      <td>Yemen</td>\n",
       "      <td>Sanaa</td>\n",
       "      <td>15.35</td>\n",
       "      <td>44.21</td>\n",
       "      <td>Asia/Aden</td>\n",
       "      <td>1695420900</td>\n",
       "      <td>23/09/2023 01:15</td>\n",
       "      <td>17.1</td>\n",
       "      <td>62.9</td>\n",
       "      <td>Clear</td>\n",
       "      <td>...</td>\n",
       "      <td>31.4</td>\n",
       "      <td>114.4</td>\n",
       "      <td>2</td>\n",
       "      <td>3</td>\n",
       "      <td>5:52 AM</td>\n",
       "      <td>6:00 PM</td>\n",
       "      <td>12:04 PM</td>\n",
       "      <td>11:23 PM</td>\n",
       "      <td>First Quarter</td>\n",
       "      <td>41</td>\n",
       "    </tr>\n",
       "    <tr>\n",
       "      <th>5065</th>\n",
       "      <td>Zambia</td>\n",
       "      <td>Lusaka</td>\n",
       "      <td>-15.42</td>\n",
       "      <td>28.28</td>\n",
       "      <td>Africa/Lusaka</td>\n",
       "      <td>1695420900</td>\n",
       "      <td>23/09/2023 00:15</td>\n",
       "      <td>22.1</td>\n",
       "      <td>71.8</td>\n",
       "      <td>Clear</td>\n",
       "      <td>...</td>\n",
       "      <td>17.6</td>\n",
       "      <td>24.3</td>\n",
       "      <td>2</td>\n",
       "      <td>2</td>\n",
       "      <td>5:57 AM</td>\n",
       "      <td>6:03 PM</td>\n",
       "      <td>11:01 AM</td>\n",
       "      <td>No moonset</td>\n",
       "      <td>First Quarter</td>\n",
       "      <td>41</td>\n",
       "    </tr>\n",
       "    <tr>\n",
       "      <th>5066</th>\n",
       "      <td>Zimbabwe</td>\n",
       "      <td>Harare</td>\n",
       "      <td>-17.82</td>\n",
       "      <td>31.04</td>\n",
       "      <td>Africa/Harare</td>\n",
       "      <td>1695420900</td>\n",
       "      <td>23/09/2023 00:15</td>\n",
       "      <td>18.6</td>\n",
       "      <td>65.6</td>\n",
       "      <td>Clear</td>\n",
       "      <td>...</td>\n",
       "      <td>16.2</td>\n",
       "      <td>19.6</td>\n",
       "      <td>2</td>\n",
       "      <td>2</td>\n",
       "      <td>5:46 AM</td>\n",
       "      <td>5:52 PM</td>\n",
       "      <td>10:44 AM</td>\n",
       "      <td>No moonset</td>\n",
       "      <td>First Quarter</td>\n",
       "      <td>41</td>\n",
       "    </tr>\n",
       "  </tbody>\n",
       "</table>\n",
       "<p>5067 rows × 41 columns</p>\n",
       "</div>"
      ],
      "text/plain": [
       "          country     location_name  latitude  longitude         timezone  \\\n",
       "0     Afghanistan             Kabul     34.52      69.18       Asia/Kabul   \n",
       "1         Albania            Tirana     41.33      19.82    Europe/Tirane   \n",
       "2         Algeria           Algiers     36.76       3.05   Africa/Algiers   \n",
       "3         Andorra  Andorra La Vella     42.50       1.52   Europe/Andorra   \n",
       "4         Andorra  Andorra La Vella     42.50       1.52   Europe/Andorra   \n",
       "...           ...               ...       ...        ...              ...   \n",
       "5062    Venezuela           Caracas     10.50     -66.92  America/Caracas   \n",
       "5063      Vietnam             Hanoi     21.03     105.85     Asia/Bangkok   \n",
       "5064        Yemen             Sanaa     15.35      44.21        Asia/Aden   \n",
       "5065       Zambia            Lusaka    -15.42      28.28    Africa/Lusaka   \n",
       "5066     Zimbabwe            Harare    -17.82      31.04    Africa/Harare   \n",
       "\n",
       "      last_updated_epoch      last_updated  temperature_celsius  \\\n",
       "0             1693301400  29/08/2023 14:00                 28.8   \n",
       "1             1693301400  29/08/2023 11:30                 27.0   \n",
       "2             1693301400  29/08/2023 10:30                 28.0   \n",
       "3             1693301400  29/08/2023 11:30                 10.2   \n",
       "4             1693301400  29/08/2023 11:30                 10.2   \n",
       "...                  ...               ...                  ...   \n",
       "5062          1695420900  22/09/2023 18:15                 29.0   \n",
       "5063          1695420900  23/09/2023 05:15                 27.0   \n",
       "5064          1695420900  23/09/2023 01:15                 17.1   \n",
       "5065          1695420900  23/09/2023 00:15                 22.1   \n",
       "5066          1695420900  23/09/2023 00:15                 18.6   \n",
       "\n",
       "      temperature_fahrenheit condition_text  ...  air_quality_PM2.5  \\\n",
       "0                       83.8          Sunny  ...                7.9   \n",
       "1                       80.6  Partly cloudy  ...               28.2   \n",
       "2                       82.4  Partly cloudy  ...                6.4   \n",
       "3                       50.4          Sunny  ...                0.5   \n",
       "4                       50.4          Sunny  ...                0.5   \n",
       "...                      ...            ...  ...                ...   \n",
       "5062                    84.2          Sunny  ...               39.6   \n",
       "5063                    80.6          Clear  ...               65.1   \n",
       "5064                    62.9          Clear  ...               31.4   \n",
       "5065                    71.8          Clear  ...               17.6   \n",
       "5066                    65.6          Clear  ...               16.2   \n",
       "\n",
       "      air_quality_PM10  air_quality_us-epa-index air_quality_gb-defra-index  \\\n",
       "0                 11.1                         1                          1   \n",
       "1                 29.6                         2                          3   \n",
       "2                  7.9                         1                          1   \n",
       "3                  0.8                         1                          1   \n",
       "4                  0.8                         1                          1   \n",
       "...                ...                       ...                        ...   \n",
       "5062              40.4                         2                          4   \n",
       "5063              78.7                         3                          9   \n",
       "5064             114.4                         2                          3   \n",
       "5065              24.3                         2                          2   \n",
       "5066              19.6                         2                          2   \n",
       "\n",
       "      sunrise   sunset  moonrise     moonset      moon_phase  \\\n",
       "0     5:24 AM  6:24 PM   5:39 PM     2:48 AM  Waxing Gibbous   \n",
       "1     6:04 AM  7:19 PM   6:50 PM     3:25 AM  Waxing Gibbous   \n",
       "2     6:16 AM  7:21 PM   6:46 PM     3:50 AM  Waxing Gibbous   \n",
       "3     7:16 AM  8:34 PM   8:08 PM     4:38 AM  Waxing Gibbous   \n",
       "4     7:16 AM  8:34 PM   8:08 PM     4:38 AM  Waxing Gibbous   \n",
       "...       ...      ...       ...         ...             ...   \n",
       "5062  6:17 AM  6:24 PM  12:36 PM  No moonset   First Quarter   \n",
       "5063  5:45 AM  5:54 PM  12:01 PM    10:52 PM   First Quarter   \n",
       "5064  5:52 AM  6:00 PM  12:04 PM    11:23 PM   First Quarter   \n",
       "5065  5:57 AM  6:03 PM  11:01 AM  No moonset   First Quarter   \n",
       "5066  5:46 AM  5:52 PM  10:44 AM  No moonset   First Quarter   \n",
       "\n",
       "      moon_illumination  \n",
       "0                    93  \n",
       "1                    93  \n",
       "2                    93  \n",
       "3                    93  \n",
       "4                    93  \n",
       "...                 ...  \n",
       "5062                 41  \n",
       "5063                 41  \n",
       "5064                 41  \n",
       "5065                 41  \n",
       "5066                 41  \n",
       "\n",
       "[5067 rows x 41 columns]"
      ]
     },
     "execution_count": 275,
     "metadata": {},
     "output_type": "execute_result"
    }
   ],
   "source": [
    "df_2"
   ]
  },
  {
   "cell_type": "code",
   "execution_count": 276,
   "metadata": {},
   "outputs": [],
   "source": [
    "x =  df_2.iloc[:, 29:35]\n",
    "y = df_2.drop(columns=\"condition_text\")"
   ]
  },
  {
   "cell_type": "markdown",
   "metadata": {},
   "source": [
    "_membuat sebuah set x dan y berdasarkan dataset baru yang di copy_"
   ]
  },
  {
   "cell_type": "code",
   "execution_count": 277,
   "metadata": {},
   "outputs": [
    {
     "name": "stdout",
     "output_type": "stream",
     "text": [
      "Ini x_train :  (3546, 6)\n",
      "Ini x_test :  (1521, 6)\n",
      "Ini y_train :  (3546, 40)\n",
      "Ini y_test :  (1521, 40)\n"
     ]
    }
   ],
   "source": [
    "x_train, x_test, y_train, y_test = train_test_split(x, y, test_size=0.3)\n",
    "print(\"Ini x_train : \", x_train.shape)\n",
    "print(\"Ini x_test : \", x_test.shape)\n",
    "print(\"Ini y_train : \", y_train.shape)\n",
    "print(\"Ini y_test : \", y_test.shape)"
   ]
  },
  {
   "cell_type": "markdown",
   "metadata": {},
   "source": [
    "### Membuat sebuah standarisasi data yang ada pada dataset"
   ]
  },
  {
   "cell_type": "code",
   "execution_count": 278,
   "metadata": {},
   "outputs": [],
   "source": [
    "ss = StandardScaler()\n",
    "ss.fit(x_train)\n",
    "X_train_scaled = ss.transform(x_train)\n",
    "X_test_scaled = ss.transform(x_test)"
   ]
  },
  {
   "cell_type": "code",
   "execution_count": 279,
   "metadata": {},
   "outputs": [
    {
     "name": "stdout",
     "output_type": "stream",
     "text": [
      "Nilai Standar deviasi data:  1.0\n"
     ]
    }
   ],
   "source": [
    "print(\"Nilai Standar deviasi data: \", np.std(X_train_scaled))"
   ]
  },
  {
   "cell_type": "markdown",
   "metadata": {},
   "source": [
    "_standarisasi data yang di lakukan berhasil, dan nilai standarisasi = 1_"
   ]
  },
  {
   "cell_type": "code",
   "execution_count": 280,
   "metadata": {},
   "outputs": [],
   "source": [
    "mm = MinMaxScaler()\n",
    "mm.fit(x_train)\n",
    "X_train_normalized = mm.transform(x_train)"
   ]
  },
  {
   "cell_type": "markdown",
   "metadata": {},
   "source": [
    "### Berikut merupakan hasil dari normalisasi data yang di lakukan"
   ]
  },
  {
   "cell_type": "code",
   "execution_count": 281,
   "metadata": {},
   "outputs": [
    {
     "name": "stdout",
     "output_type": "stream",
     "text": [
      "Nilai Normalisasi data Min:  0.0\n",
      "Nilai Normalisasi data max:  1.0000000000000002\n"
     ]
    }
   ],
   "source": [
    "print(\"Nilai Normalisasi data Min: \", np.min(X_train_normalized))\n",
    "print(\"Nilai Normalisasi data max: \", np.max(X_train_normalized))"
   ]
  },
  {
   "cell_type": "markdown",
   "metadata": {},
   "source": [
    "### Merubah Jenis tipe data Float pada dataset menjadi Integer"
   ]
  },
  {
   "cell_type": "code",
   "execution_count": 282,
   "metadata": {},
   "outputs": [
    {
     "data": {
      "text/plain": [
       "Index(['latitude', 'longitude', 'temperature_celsius',\n",
       "       'temperature_fahrenheit', 'wind_mph', 'wind_kph', 'pressure_mb',\n",
       "       'pressure_in', 'precip_mm', 'precip_in', 'feels_like_celsius',\n",
       "       'feels_like_fahrenheit', 'visibility_km', 'visibility_miles',\n",
       "       'uv_index', 'gust_mph', 'gust_kph', 'air_quality_Ozone',\n",
       "       'air_quality_Nitrogen_dioxide', 'air_quality_Sulphur_dioxide',\n",
       "       'air_quality_PM2.5', 'air_quality_PM10'],\n",
       "      dtype='object')"
      ]
     },
     "execution_count": 282,
     "metadata": {},
     "output_type": "execute_result"
    }
   ],
   "source": [
    "float_columns = df.select_dtypes(include='float')\n",
    "float_columns.columns"
   ]
  },
  {
   "cell_type": "markdown",
   "metadata": {},
   "source": [
    "_Mengecek berbagai colom yang bertipe float_"
   ]
  },
  {
   "cell_type": "code",
   "execution_count": 283,
   "metadata": {},
   "outputs": [
    {
     "data": {
      "text/plain": [
       "Index(['last_updated_epoch', 'wind_degree', 'humidity', 'cloud',\n",
       "       'air_quality_us-epa-index', 'air_quality_gb-defra-index',\n",
       "       'moon_illumination'],\n",
       "      dtype='object')"
      ]
     },
     "execution_count": 283,
     "metadata": {},
     "output_type": "execute_result"
    }
   ],
   "source": [
    "int_columns = df.select_dtypes(include='int')\n",
    "int_columns.columns"
   ]
  },
  {
   "cell_type": "markdown",
   "metadata": {},
   "source": [
    "_Mengecek berbagai colom yang bertipe int_"
   ]
  },
  {
   "cell_type": "code",
   "execution_count": 284,
   "metadata": {},
   "outputs": [],
   "source": [
    "df[['gust_kph', 'longitude' ]] = df[['gust_kph', 'longitude' ]].astype(int)"
   ]
  },
  {
   "cell_type": "code",
   "execution_count": 285,
   "metadata": {},
   "outputs": [
    {
     "data": {
      "text/plain": [
       "Index(['longitude', 'last_updated_epoch', 'wind_degree', 'humidity', 'cloud',\n",
       "       'gust_kph', 'air_quality_us-epa-index', 'air_quality_gb-defra-index',\n",
       "       'moon_illumination'],\n",
       "      dtype='object')"
      ]
     },
     "execution_count": 285,
     "metadata": {},
     "output_type": "execute_result"
    }
   ],
   "source": [
    "int_columns = df.select_dtypes(include='int')\n",
    "int_columns.columns"
   ]
  },
  {
   "cell_type": "markdown",
   "metadata": {},
   "source": [
    "_longitude dan gust_kph masuk kedalam tipe data int dipastikan tipe datanya berubah_"
   ]
  },
  {
   "cell_type": "code",
   "execution_count": 286,
   "metadata": {},
   "outputs": [],
   "source": [
    "onehot = OneHotEncoder(sparse = False)"
   ]
  },
  {
   "cell_type": "code",
   "execution_count": 287,
   "metadata": {},
   "outputs": [
    {
     "name": "stderr",
     "output_type": "stream",
     "text": [
      "e:\\Data_C\\Documents\\KULIAH\\Codingan\\KB\\Pertemuan_4\\pertemuan_4\\lib\\site-packages\\sklearn\\preprocessing\\_encoders.py:975: FutureWarning: `sparse` was renamed to `sparse_output` in version 1.2 and will be removed in 1.4. `sparse_output` is ignored unless you leave `sparse` to its default value.\n",
      "  warnings.warn(\n"
     ]
    }
   ],
   "source": [
    "condition_encoded = onehot.fit_transform(df[[\"moon_phase\"]])"
   ]
  },
  {
   "cell_type": "code",
   "execution_count": 288,
   "metadata": {},
   "outputs": [
    {
     "data": {
      "text/plain": [
       "moon_phase\n",
       "Waxing Crescent    1362\n",
       "Waning Crescent    1170\n",
       "Waning Gibbous     1169\n",
       "Full Moon           390\n",
       "New Moon            390\n",
       "Waxing Gibbous      195\n",
       "Last Quarter        195\n",
       "First Quarter       194\n",
       "Name: count, dtype: int64"
      ]
     },
     "execution_count": 288,
     "metadata": {},
     "output_type": "execute_result"
    }
   ],
   "source": [
    "df.moon_phase.value_counts()"
   ]
  },
  {
   "cell_type": "code",
   "execution_count": 289,
   "metadata": {},
   "outputs": [
    {
     "data": {
      "text/html": [
       "<div>\n",
       "<style scoped>\n",
       "    .dataframe tbody tr th:only-of-type {\n",
       "        vertical-align: middle;\n",
       "    }\n",
       "\n",
       "    .dataframe tbody tr th {\n",
       "        vertical-align: top;\n",
       "    }\n",
       "\n",
       "    .dataframe thead th {\n",
       "        text-align: right;\n",
       "    }\n",
       "</style>\n",
       "<table border=\"1\" class=\"dataframe\">\n",
       "  <thead>\n",
       "    <tr style=\"text-align: right;\">\n",
       "      <th></th>\n",
       "      <th>country</th>\n",
       "      <th>location_name</th>\n",
       "      <th>latitude</th>\n",
       "      <th>longitude</th>\n",
       "      <th>timezone</th>\n",
       "      <th>last_updated_epoch</th>\n",
       "      <th>last_updated</th>\n",
       "      <th>temperature_celsius</th>\n",
       "      <th>temperature_fahrenheit</th>\n",
       "      <th>condition_text</th>\n",
       "      <th>...</th>\n",
       "      <th>moon_phase</th>\n",
       "      <th>moon_illumination</th>\n",
       "      <th>Waxing Crescent</th>\n",
       "      <th>Waning Crescent</th>\n",
       "      <th>Waning Gibbous</th>\n",
       "      <th>Full Moon</th>\n",
       "      <th>New Moon</th>\n",
       "      <th>Waxing Gibbous</th>\n",
       "      <th>Last Quarter</th>\n",
       "      <th>First Quarter</th>\n",
       "    </tr>\n",
       "  </thead>\n",
       "  <tbody>\n",
       "    <tr>\n",
       "      <th>0</th>\n",
       "      <td>Afghanistan</td>\n",
       "      <td>Kabul</td>\n",
       "      <td>34.52</td>\n",
       "      <td>69</td>\n",
       "      <td>Asia/Kabul</td>\n",
       "      <td>1693301400</td>\n",
       "      <td>29/08/2023 14:00</td>\n",
       "      <td>28.8</td>\n",
       "      <td>83.8</td>\n",
       "      <td>Sunny</td>\n",
       "      <td>...</td>\n",
       "      <td>Waxing Gibbous</td>\n",
       "      <td>93</td>\n",
       "      <td>0.0</td>\n",
       "      <td>0.0</td>\n",
       "      <td>0.0</td>\n",
       "      <td>0.0</td>\n",
       "      <td>0.0</td>\n",
       "      <td>1.0</td>\n",
       "      <td>0.0</td>\n",
       "      <td>0.0</td>\n",
       "    </tr>\n",
       "    <tr>\n",
       "      <th>1</th>\n",
       "      <td>Albania</td>\n",
       "      <td>Tirana</td>\n",
       "      <td>41.33</td>\n",
       "      <td>19</td>\n",
       "      <td>Europe/Tirane</td>\n",
       "      <td>1693301400</td>\n",
       "      <td>29/08/2023 11:30</td>\n",
       "      <td>27.0</td>\n",
       "      <td>80.6</td>\n",
       "      <td>Partly cloudy</td>\n",
       "      <td>...</td>\n",
       "      <td>Waxing Gibbous</td>\n",
       "      <td>93</td>\n",
       "      <td>0.0</td>\n",
       "      <td>0.0</td>\n",
       "      <td>0.0</td>\n",
       "      <td>0.0</td>\n",
       "      <td>0.0</td>\n",
       "      <td>1.0</td>\n",
       "      <td>0.0</td>\n",
       "      <td>0.0</td>\n",
       "    </tr>\n",
       "    <tr>\n",
       "      <th>2</th>\n",
       "      <td>Algeria</td>\n",
       "      <td>Algiers</td>\n",
       "      <td>36.76</td>\n",
       "      <td>3</td>\n",
       "      <td>Africa/Algiers</td>\n",
       "      <td>1693301400</td>\n",
       "      <td>29/08/2023 10:30</td>\n",
       "      <td>28.0</td>\n",
       "      <td>82.4</td>\n",
       "      <td>Partly cloudy</td>\n",
       "      <td>...</td>\n",
       "      <td>Waxing Gibbous</td>\n",
       "      <td>93</td>\n",
       "      <td>0.0</td>\n",
       "      <td>0.0</td>\n",
       "      <td>0.0</td>\n",
       "      <td>0.0</td>\n",
       "      <td>0.0</td>\n",
       "      <td>1.0</td>\n",
       "      <td>0.0</td>\n",
       "      <td>0.0</td>\n",
       "    </tr>\n",
       "    <tr>\n",
       "      <th>3</th>\n",
       "      <td>Andorra</td>\n",
       "      <td>Andorra La Vella</td>\n",
       "      <td>42.50</td>\n",
       "      <td>1</td>\n",
       "      <td>Europe/Andorra</td>\n",
       "      <td>1693301400</td>\n",
       "      <td>29/08/2023 11:30</td>\n",
       "      <td>10.2</td>\n",
       "      <td>50.4</td>\n",
       "      <td>Sunny</td>\n",
       "      <td>...</td>\n",
       "      <td>Waxing Gibbous</td>\n",
       "      <td>93</td>\n",
       "      <td>0.0</td>\n",
       "      <td>0.0</td>\n",
       "      <td>0.0</td>\n",
       "      <td>0.0</td>\n",
       "      <td>0.0</td>\n",
       "      <td>1.0</td>\n",
       "      <td>0.0</td>\n",
       "      <td>0.0</td>\n",
       "    </tr>\n",
       "    <tr>\n",
       "      <th>4</th>\n",
       "      <td>Angola</td>\n",
       "      <td>Luanda</td>\n",
       "      <td>-8.84</td>\n",
       "      <td>13</td>\n",
       "      <td>Africa/Luanda</td>\n",
       "      <td>1693301400</td>\n",
       "      <td>29/08/2023 10:30</td>\n",
       "      <td>25.0</td>\n",
       "      <td>77.0</td>\n",
       "      <td>Partly cloudy</td>\n",
       "      <td>...</td>\n",
       "      <td>Waxing Gibbous</td>\n",
       "      <td>93</td>\n",
       "      <td>0.0</td>\n",
       "      <td>0.0</td>\n",
       "      <td>0.0</td>\n",
       "      <td>0.0</td>\n",
       "      <td>0.0</td>\n",
       "      <td>1.0</td>\n",
       "      <td>0.0</td>\n",
       "      <td>0.0</td>\n",
       "    </tr>\n",
       "    <tr>\n",
       "      <th>...</th>\n",
       "      <td>...</td>\n",
       "      <td>...</td>\n",
       "      <td>...</td>\n",
       "      <td>...</td>\n",
       "      <td>...</td>\n",
       "      <td>...</td>\n",
       "      <td>...</td>\n",
       "      <td>...</td>\n",
       "      <td>...</td>\n",
       "      <td>...</td>\n",
       "      <td>...</td>\n",
       "      <td>...</td>\n",
       "      <td>...</td>\n",
       "      <td>...</td>\n",
       "      <td>...</td>\n",
       "      <td>...</td>\n",
       "      <td>...</td>\n",
       "      <td>...</td>\n",
       "      <td>...</td>\n",
       "      <td>...</td>\n",
       "      <td>...</td>\n",
       "    </tr>\n",
       "    <tr>\n",
       "      <th>5060</th>\n",
       "      <td>Venezuela</td>\n",
       "      <td>Caracas</td>\n",
       "      <td>10.50</td>\n",
       "      <td>-66</td>\n",
       "      <td>America/Caracas</td>\n",
       "      <td>1695420900</td>\n",
       "      <td>22/09/2023 18:15</td>\n",
       "      <td>29.0</td>\n",
       "      <td>84.2</td>\n",
       "      <td>Sunny</td>\n",
       "      <td>...</td>\n",
       "      <td>First Quarter</td>\n",
       "      <td>41</td>\n",
       "      <td>0.0</td>\n",
       "      <td>0.0</td>\n",
       "      <td>0.0</td>\n",
       "      <td>0.0</td>\n",
       "      <td>0.0</td>\n",
       "      <td>0.0</td>\n",
       "      <td>0.0</td>\n",
       "      <td>1.0</td>\n",
       "    </tr>\n",
       "    <tr>\n",
       "      <th>5061</th>\n",
       "      <td>Vietnam</td>\n",
       "      <td>Hanoi</td>\n",
       "      <td>21.03</td>\n",
       "      <td>105</td>\n",
       "      <td>Asia/Bangkok</td>\n",
       "      <td>1695420900</td>\n",
       "      <td>23/09/2023 05:15</td>\n",
       "      <td>27.0</td>\n",
       "      <td>80.6</td>\n",
       "      <td>Clear</td>\n",
       "      <td>...</td>\n",
       "      <td>First Quarter</td>\n",
       "      <td>41</td>\n",
       "      <td>0.0</td>\n",
       "      <td>0.0</td>\n",
       "      <td>0.0</td>\n",
       "      <td>0.0</td>\n",
       "      <td>0.0</td>\n",
       "      <td>0.0</td>\n",
       "      <td>0.0</td>\n",
       "      <td>1.0</td>\n",
       "    </tr>\n",
       "    <tr>\n",
       "      <th>5062</th>\n",
       "      <td>Yemen</td>\n",
       "      <td>Sanaa</td>\n",
       "      <td>15.35</td>\n",
       "      <td>44</td>\n",
       "      <td>Asia/Aden</td>\n",
       "      <td>1695420900</td>\n",
       "      <td>23/09/2023 01:15</td>\n",
       "      <td>17.1</td>\n",
       "      <td>62.9</td>\n",
       "      <td>Clear</td>\n",
       "      <td>...</td>\n",
       "      <td>First Quarter</td>\n",
       "      <td>41</td>\n",
       "      <td>0.0</td>\n",
       "      <td>0.0</td>\n",
       "      <td>0.0</td>\n",
       "      <td>0.0</td>\n",
       "      <td>0.0</td>\n",
       "      <td>0.0</td>\n",
       "      <td>0.0</td>\n",
       "      <td>1.0</td>\n",
       "    </tr>\n",
       "    <tr>\n",
       "      <th>5063</th>\n",
       "      <td>Zambia</td>\n",
       "      <td>Lusaka</td>\n",
       "      <td>-15.42</td>\n",
       "      <td>28</td>\n",
       "      <td>Africa/Lusaka</td>\n",
       "      <td>1695420900</td>\n",
       "      <td>23/09/2023 00:15</td>\n",
       "      <td>22.1</td>\n",
       "      <td>71.8</td>\n",
       "      <td>Clear</td>\n",
       "      <td>...</td>\n",
       "      <td>First Quarter</td>\n",
       "      <td>41</td>\n",
       "      <td>0.0</td>\n",
       "      <td>0.0</td>\n",
       "      <td>0.0</td>\n",
       "      <td>0.0</td>\n",
       "      <td>0.0</td>\n",
       "      <td>0.0</td>\n",
       "      <td>0.0</td>\n",
       "      <td>1.0</td>\n",
       "    </tr>\n",
       "    <tr>\n",
       "      <th>5064</th>\n",
       "      <td>Zimbabwe</td>\n",
       "      <td>Harare</td>\n",
       "      <td>-17.82</td>\n",
       "      <td>31</td>\n",
       "      <td>Africa/Harare</td>\n",
       "      <td>1695420900</td>\n",
       "      <td>23/09/2023 00:15</td>\n",
       "      <td>18.6</td>\n",
       "      <td>65.6</td>\n",
       "      <td>Clear</td>\n",
       "      <td>...</td>\n",
       "      <td>First Quarter</td>\n",
       "      <td>41</td>\n",
       "      <td>0.0</td>\n",
       "      <td>0.0</td>\n",
       "      <td>0.0</td>\n",
       "      <td>0.0</td>\n",
       "      <td>0.0</td>\n",
       "      <td>0.0</td>\n",
       "      <td>0.0</td>\n",
       "      <td>1.0</td>\n",
       "    </tr>\n",
       "  </tbody>\n",
       "</table>\n",
       "<p>5065 rows × 49 columns</p>\n",
       "</div>"
      ],
      "text/plain": [
       "          country     location_name  latitude  longitude         timezone  \\\n",
       "0     Afghanistan             Kabul     34.52         69       Asia/Kabul   \n",
       "1         Albania            Tirana     41.33         19    Europe/Tirane   \n",
       "2         Algeria           Algiers     36.76          3   Africa/Algiers   \n",
       "3         Andorra  Andorra La Vella     42.50          1   Europe/Andorra   \n",
       "4          Angola            Luanda     -8.84         13    Africa/Luanda   \n",
       "...           ...               ...       ...        ...              ...   \n",
       "5060    Venezuela           Caracas     10.50        -66  America/Caracas   \n",
       "5061      Vietnam             Hanoi     21.03        105     Asia/Bangkok   \n",
       "5062        Yemen             Sanaa     15.35         44        Asia/Aden   \n",
       "5063       Zambia            Lusaka    -15.42         28    Africa/Lusaka   \n",
       "5064     Zimbabwe            Harare    -17.82         31    Africa/Harare   \n",
       "\n",
       "      last_updated_epoch      last_updated  temperature_celsius  \\\n",
       "0             1693301400  29/08/2023 14:00                 28.8   \n",
       "1             1693301400  29/08/2023 11:30                 27.0   \n",
       "2             1693301400  29/08/2023 10:30                 28.0   \n",
       "3             1693301400  29/08/2023 11:30                 10.2   \n",
       "4             1693301400  29/08/2023 10:30                 25.0   \n",
       "...                  ...               ...                  ...   \n",
       "5060          1695420900  22/09/2023 18:15                 29.0   \n",
       "5061          1695420900  23/09/2023 05:15                 27.0   \n",
       "5062          1695420900  23/09/2023 01:15                 17.1   \n",
       "5063          1695420900  23/09/2023 00:15                 22.1   \n",
       "5064          1695420900  23/09/2023 00:15                 18.6   \n",
       "\n",
       "      temperature_fahrenheit condition_text  ...      moon_phase  \\\n",
       "0                       83.8          Sunny  ...  Waxing Gibbous   \n",
       "1                       80.6  Partly cloudy  ...  Waxing Gibbous   \n",
       "2                       82.4  Partly cloudy  ...  Waxing Gibbous   \n",
       "3                       50.4          Sunny  ...  Waxing Gibbous   \n",
       "4                       77.0  Partly cloudy  ...  Waxing Gibbous   \n",
       "...                      ...            ...  ...             ...   \n",
       "5060                    84.2          Sunny  ...   First Quarter   \n",
       "5061                    80.6          Clear  ...   First Quarter   \n",
       "5062                    62.9          Clear  ...   First Quarter   \n",
       "5063                    71.8          Clear  ...   First Quarter   \n",
       "5064                    65.6          Clear  ...   First Quarter   \n",
       "\n",
       "      moon_illumination  Waxing Crescent Waning Crescent  Waning Gibbous  \\\n",
       "0                    93              0.0             0.0             0.0   \n",
       "1                    93              0.0             0.0             0.0   \n",
       "2                    93              0.0             0.0             0.0   \n",
       "3                    93              0.0             0.0             0.0   \n",
       "4                    93              0.0             0.0             0.0   \n",
       "...                 ...              ...             ...             ...   \n",
       "5060                 41              0.0             0.0             0.0   \n",
       "5061                 41              0.0             0.0             0.0   \n",
       "5062                 41              0.0             0.0             0.0   \n",
       "5063                 41              0.0             0.0             0.0   \n",
       "5064                 41              0.0             0.0             0.0   \n",
       "\n",
       "      Full Moon  New Moon  Waxing Gibbous  Last Quarter  First Quarter  \n",
       "0           0.0       0.0             1.0           0.0            0.0  \n",
       "1           0.0       0.0             1.0           0.0            0.0  \n",
       "2           0.0       0.0             1.0           0.0            0.0  \n",
       "3           0.0       0.0             1.0           0.0            0.0  \n",
       "4           0.0       0.0             1.0           0.0            0.0  \n",
       "...         ...       ...             ...           ...            ...  \n",
       "5060        0.0       0.0             0.0           0.0            1.0  \n",
       "5061        0.0       0.0             0.0           0.0            1.0  \n",
       "5062        0.0       0.0             0.0           0.0            1.0  \n",
       "5063        0.0       0.0             0.0           0.0            1.0  \n",
       "5064        0.0       0.0             0.0           0.0            1.0  \n",
       "\n",
       "[5065 rows x 49 columns]"
      ]
     },
     "execution_count": 289,
     "metadata": {},
     "output_type": "execute_result"
    }
   ],
   "source": [
    "condition_encoded = pd.DataFrame(condition_encoded)\n",
    "df[\"Waxing Crescent\"] = condition_encoded[6]\n",
    "df[\"Waning Crescent\"] = condition_encoded[4]\n",
    "df[\"Waning Gibbous\"] = condition_encoded[5]\n",
    "df[\"Full Moon\"] = condition_encoded[3]\n",
    "df[\"New Moon\"] = condition_encoded[1]\n",
    "df[\"Waxing Gibbous\"] = condition_encoded[7]\n",
    "df[\"Last Quarter\"] = condition_encoded[2]\n",
    "df[\"First Quarter\"] = condition_encoded[0]\n",
    "df"
   ]
  },
  {
   "cell_type": "code",
   "execution_count": 290,
   "metadata": {},
   "outputs": [
    {
     "name": "stdout",
     "output_type": "stream",
     "text": [
      "Jumlah baris sebelum one-hot encoding: 5065\n",
      "Jumlah baris setelah one-hot encoding: 5065\n"
     ]
    }
   ],
   "source": [
    "print(\"Jumlah baris sebelum one-hot encoding:\", df.shape[0])\n",
    "condition_encoded = pd.get_dummies(df, columns=['moon_phase'])\n",
    "print(\"Jumlah baris setelah one-hot encoding:\", condition_encoded.shape[0])"
   ]
  }
 ],
 "metadata": {
  "kernelspec": {
   "display_name": "Python 3",
   "language": "python",
   "name": "python3"
  },
  "language_info": {
   "codemirror_mode": {
    "name": "ipython",
    "version": 3
   },
   "file_extension": ".py",
   "mimetype": "text/x-python",
   "name": "python",
   "nbconvert_exporter": "python",
   "pygments_lexer": "ipython3",
   "version": "3.10.7"
  }
 },
 "nbformat": 4,
 "nbformat_minor": 2
}
